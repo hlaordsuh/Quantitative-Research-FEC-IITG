{
 "cells": [
  {
   "cell_type": "code",
   "execution_count": 1,
   "metadata": {},
   "outputs": [],
   "source": [
    "import pandas as pd\n",
    "import matplotlib.pyplot as plt\n",
    "import math\n",
    "import numpy as np\n",
    "\n",
    "def first_binomial_call(S, K, T, r, u, d, N):\n",
    "    dt = T/N\n",
    "    p = (math.exp(r*dt)-d)/(u-d)\n",
    "    C = {}\n",
    "    for m in range(0, N+1):\n",
    "            C[(N, m)] = max(0,S*(u**(m))*(d**(N-m))-K)\n",
    "    for k in range(N-1, -1, -1):\n",
    "        for m in range(0,k+1):\n",
    "            C[(k, m)] = (math.exp(-r*dt))*(p*C[(k+1,m+1)]+(1-p)*C[(k+1,m)])\n",
    "    return C"
   ]
  },
  {
   "cell_type": "code",
   "execution_count": null,
   "metadata": {
    "scrolled": false
   },
   "outputs": [
    {
     "name": "stdout",
     "output_type": "stream",
     "text": [
      "2.941811444713696e+80\n"
     ]
    }
   ],
   "source": [
    "import matplotlib.pyplot as plt\n",
    "call = []\n",
    "maxx=0\n",
    "for N in range(1,1000,10):\n",
    "  call_price = first_binomial_call(100, 100, 1, 0, 1.2, 0.8, N)\n",
    "#   print(call_price)\n",
    "  maxx=max(maxx,max(call_price.values()))  \n",
    "  call.append(call_price)\n",
    "print(maxx)\n",
    "call = pd.DataFrame(call)\n",
    "call.plot()"
   ]
  },
  {
   "cell_type": "code",
   "execution_count": 1,
   "metadata": {},
   "outputs": [],
   "source": [
    "import numpy as np\n",
    "import scipy.stats as si\n",
    "import sympy as sy\n",
    "from sympy.stats import Normal, cdf\n",
    "from datetime import datetime\n",
    "\n",
    "import warnings\n",
    "warnings.filterwarnings(\"ignore\")\n",
    "\n",
    "def euro_vanilla(S, K, T, r, sigma, option = 'call'):\n",
    "    \n",
    "    #S: spot price\n",
    "    #K: strike price\n",
    "    #T: time to maturity\n",
    "    #r: interest rate\n",
    "    #sigma: volatility of underlying asset\n",
    "    \n",
    "    d1 = (np.log(S / K) + (r + 0.5 * sigma ** 2) * T) / (sigma * np.sqrt(T))\n",
    "    d2 = (np.log(S / K) + (r - 0.5 * sigma ** 2) * T) / (sigma * np.sqrt(T))\n",
    "    \n",
    "    if option == 'call':\n",
    "        result = (S * si.norm.cdf(d1, 0.0, 1.0) - K * np.exp(-r * T) * si.norm.cdf(d2, 0.0, 1.0))\n",
    "    if option == 'put':\n",
    "        result = (K * np.exp(-r * T) * si.norm.cdf(-d2, 0.0, 1.0) - S * si.norm.cdf(-d1, 0.0, 1.0))\n",
    "        \n",
    "    return result"
   ]
  },
  {
   "cell_type": "code",
   "execution_count": 2,
   "metadata": {},
   "outputs": [
    {
     "data": {
      "text/plain": [
       "2.266816097057781"
      ]
     },
     "execution_count": 2,
     "metadata": {},
     "output_type": "execute_result"
    }
   ],
   "source": [
    "euro_vanilla( 80, 100, 1, 0.02/252, .25,  'call')"
   ]
  },
  {
   "cell_type": "code",
   "execution_count": 3,
   "metadata": {},
   "outputs": [
    {
     "data": {
      "text/html": [
       "<div>\n",
       "<style scoped>\n",
       "    .dataframe tbody tr th:only-of-type {\n",
       "        vertical-align: middle;\n",
       "    }\n",
       "\n",
       "    .dataframe tbody tr th {\n",
       "        vertical-align: top;\n",
       "    }\n",
       "\n",
       "    .dataframe thead th {\n",
       "        text-align: right;\n",
       "    }\n",
       "</style>\n",
       "<table border=\"1\" class=\"dataframe\">\n",
       "  <thead>\n",
       "    <tr style=\"text-align: right;\">\n",
       "      <th></th>\n",
       "      <th>Symbol</th>\n",
       "      <th>Date</th>\n",
       "      <th>Expiry</th>\n",
       "      <th>Option Type</th>\n",
       "      <th>Strike Price</th>\n",
       "      <th>Open</th>\n",
       "      <th>High</th>\n",
       "      <th>Low</th>\n",
       "      <th>Close</th>\n",
       "      <th>LTP</th>\n",
       "      <th>Settle Price</th>\n",
       "      <th>No. of contracts</th>\n",
       "      <th>Turnover in Lacs</th>\n",
       "      <th>Premium Turnover in Lacs</th>\n",
       "      <th>Open Int</th>\n",
       "      <th>Change in OI</th>\n",
       "      <th>Underlying Value</th>\n",
       "      <th>Time to Expiry</th>\n",
       "    </tr>\n",
       "  </thead>\n",
       "  <tbody>\n",
       "    <tr>\n",
       "      <th>0</th>\n",
       "      <td>NIFTY</td>\n",
       "      <td>10/11/2017</td>\n",
       "      <td>12/28/2017</td>\n",
       "      <td>CE</td>\n",
       "      <td>10100</td>\n",
       "      <td>342.00</td>\n",
       "      <td>384.55</td>\n",
       "      <td>319.95</td>\n",
       "      <td>346.65</td>\n",
       "      <td>357.25</td>\n",
       "      <td>346.65</td>\n",
       "      <td>369</td>\n",
       "      <td>2891.94</td>\n",
       "      <td>96.77</td>\n",
       "      <td>270000</td>\n",
       "      <td>6000</td>\n",
       "      <td>10321.75</td>\n",
       "      <td>48</td>\n",
       "    </tr>\n",
       "    <tr>\n",
       "      <th>1</th>\n",
       "      <td>NIFTY</td>\n",
       "      <td>10/11/2017</td>\n",
       "      <td>12/28/2017</td>\n",
       "      <td>CE</td>\n",
       "      <td>10200</td>\n",
       "      <td>274.05</td>\n",
       "      <td>308.15</td>\n",
       "      <td>246.00</td>\n",
       "      <td>280.10</td>\n",
       "      <td>288.00</td>\n",
       "      <td>280.10</td>\n",
       "      <td>814</td>\n",
       "      <td>6395.29</td>\n",
       "      <td>168.19</td>\n",
       "      <td>463125</td>\n",
       "      <td>1200</td>\n",
       "      <td>10321.75</td>\n",
       "      <td>48</td>\n",
       "    </tr>\n",
       "    <tr>\n",
       "      <th>2</th>\n",
       "      <td>NIFTY</td>\n",
       "      <td>10/11/2017</td>\n",
       "      <td>12/28/2017</td>\n",
       "      <td>CE</td>\n",
       "      <td>10300</td>\n",
       "      <td>213.15</td>\n",
       "      <td>239.05</td>\n",
       "      <td>184.95</td>\n",
       "      <td>214.45</td>\n",
       "      <td>220.00</td>\n",
       "      <td>214.45</td>\n",
       "      <td>2489</td>\n",
       "      <td>19614.17</td>\n",
       "      <td>386.64</td>\n",
       "      <td>583650</td>\n",
       "      <td>7725</td>\n",
       "      <td>10321.75</td>\n",
       "      <td>48</td>\n",
       "    </tr>\n",
       "    <tr>\n",
       "      <th>3</th>\n",
       "      <td>NIFTY</td>\n",
       "      <td>10/11/2017</td>\n",
       "      <td>12/28/2017</td>\n",
       "      <td>CE</td>\n",
       "      <td>10400</td>\n",
       "      <td>156.10</td>\n",
       "      <td>177.75</td>\n",
       "      <td>133.40</td>\n",
       "      <td>153.65</td>\n",
       "      <td>161.45</td>\n",
       "      <td>153.65</td>\n",
       "      <td>2648</td>\n",
       "      <td>20963.42</td>\n",
       "      <td>309.02</td>\n",
       "      <td>436650</td>\n",
       "      <td>3675</td>\n",
       "      <td>10321.75</td>\n",
       "      <td>48</td>\n",
       "    </tr>\n",
       "    <tr>\n",
       "      <th>4</th>\n",
       "      <td>NIFTY</td>\n",
       "      <td>10/11/2017</td>\n",
       "      <td>12/28/2017</td>\n",
       "      <td>CE</td>\n",
       "      <td>10500</td>\n",
       "      <td>117.45</td>\n",
       "      <td>128.45</td>\n",
       "      <td>92.60</td>\n",
       "      <td>112.20</td>\n",
       "      <td>117.70</td>\n",
       "      <td>112.20</td>\n",
       "      <td>8500</td>\n",
       "      <td>67640.94</td>\n",
       "      <td>703.44</td>\n",
       "      <td>1862175</td>\n",
       "      <td>2625</td>\n",
       "      <td>10321.75</td>\n",
       "      <td>48</td>\n",
       "    </tr>\n",
       "  </tbody>\n",
       "</table>\n",
       "</div>"
      ],
      "text/plain": [
       "  Symbol        Date      Expiry Option Type  Strike Price    Open    High  \\\n",
       "0  NIFTY  10/11/2017  12/28/2017          CE         10100  342.00  384.55   \n",
       "1  NIFTY  10/11/2017  12/28/2017          CE         10200  274.05  308.15   \n",
       "2  NIFTY  10/11/2017  12/28/2017          CE         10300  213.15  239.05   \n",
       "3  NIFTY  10/11/2017  12/28/2017          CE         10400  156.10  177.75   \n",
       "4  NIFTY  10/11/2017  12/28/2017          CE         10500  117.45  128.45   \n",
       "\n",
       "      Low   Close     LTP  Settle Price  No. of contracts  Turnover in Lacs  \\\n",
       "0  319.95  346.65  357.25        346.65               369           2891.94   \n",
       "1  246.00  280.10  288.00        280.10               814           6395.29   \n",
       "2  184.95  214.45  220.00        214.45              2489          19614.17   \n",
       "3  133.40  153.65  161.45        153.65              2648          20963.42   \n",
       "4   92.60  112.20  117.70        112.20              8500          67640.94   \n",
       "\n",
       "   Premium Turnover in Lacs  Open Int  Change in OI  Underlying Value  \\\n",
       "0                     96.77    270000          6000          10321.75   \n",
       "1                    168.19    463125          1200          10321.75   \n",
       "2                    386.64    583650          7725          10321.75   \n",
       "3                    309.02    436650          3675          10321.75   \n",
       "4                    703.44   1862175          2625          10321.75   \n",
       "\n",
       "   Time to Expiry  \n",
       "0              48  \n",
       "1              48  \n",
       "2              48  \n",
       "3              48  \n",
       "4              48  "
      ]
     },
     "execution_count": 3,
     "metadata": {},
     "output_type": "execute_result"
    }
   ],
   "source": [
    "# Fetching nifty_data\n",
    "import pandas as pd\n",
    "\n",
    "nifty_data = pd.read_csv(\"Option_data_NIFTY.csv\")\n",
    "\n",
    "nifty_data.head()\n"
   ]
  },
  {
   "cell_type": "code",
   "execution_count": 4,
   "metadata": {},
   "outputs": [],
   "source": [
    "# Pick a Strike of your choice. Calculate required inputs for pricing the call and put option of that strike for all the dates\n",
    "from statistics import stdev \n",
    "import numpy as np\n",
    "\n",
    "Strike_Price = 10100\n",
    "new_data = nifty_data[nifty_data['Strike Price'] == Strike_Price]\n",
    "new_data['volatility'] = 0\n",
    "vv=[0]\n",
    "for i in range(1,len(new_data)):\n",
    "    a =  np.log((new_data.iloc[i, new_data.columns.get_loc('Settle Price')])/(new_data.iloc[i-1, new_data.columns.get_loc('Settle Price')]))\n",
    "    vv.append(a)\n",
    "    new_data.iloc[i, new_data.columns.get_loc('volatility')]= stdev(vv)\n",
    "new_data['Theoritical_Call'] = 0\n",
    "new_data['Theoritical_Put'] = 0\n",
    "\n",
    "new_data['Date'] = pd.to_datetime(new_data['Date'])\n",
    "new_data.index  = new_data['Date'] \n",
    "\n",
    "for i in range(len(new_data)):\n",
    "  new_data['Theoritical_Call'][i] = euro_vanilla(S = new_data['Underlying Value'][i], K = new_data['Strike Price'][i], T = new_data['Time to Expiry'][i] , r = .04, sigma= new_data['volatility'][i] , option = 'call')\n",
    "  new_data['Theoritical_Put'][i] = euro_vanilla(S = new_data['Underlying Value'][i], K = new_data['Strike Price'][i], T = new_data['Time to Expiry'][i] , r = .04, sigma= new_data['volatility'][i] , option = 'put')\n"
   ]
  },
  {
   "cell_type": "code",
   "execution_count": 6,
   "metadata": {},
   "outputs": [
    {
     "data": {
      "text/plain": [
       "<matplotlib.axes._subplots.AxesSubplot at 0x1e5f5e777b8>"
      ]
     },
     "execution_count": 6,
     "metadata": {},
     "output_type": "execute_result"
    },
    {
     "data": {
      "image/png": "[encoded data removed]",
      "text/plain": [
       "<Figure size 432x288 with 1 Axes>"
      ]
     },
     "metadata": {
      "needs_background": "light"
     },
     "output_type": "display_data"
    }
   ],
   "source": [
    "import matplotlib.pyplot as plt\n",
    "new_data['Put_Call_Parity'] = new_data['Theoritical_Call'] - new_data['Theoritical_Put'] - new_data['Underlying Value'] + new_data['Strike Price']*np.exp(-0.02/252 * new_data['Time to Expiry'])\n",
    "new_data['Put_Call_Parity'].plot()"
   ]
  },
  {
   "cell_type": "code",
   "execution_count": null,
   "metadata": {},
   "outputs": [],
   "source": []
  }
 ],
 "metadata": {
  "kernelspec": {
   "display_name": "Python 3",
   "language": "python",
   "name": "python3"
  },
  "language_info": {
   "codemirror_mode": {
    "name": "ipython",
    "version": 3
   },
   "file_extension": ".py",
   "mimetype": "text/x-python",
   "name": "python",
   "nbconvert_exporter": "python",
   "pygments_lexer": "ipython3",
   "version": "3.7.3"
  }
 },
 "nbformat": 4,
 "nbformat_minor": 2
}